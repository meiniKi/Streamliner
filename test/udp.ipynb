{
 "cells": [
  {
   "cell_type": "code",
   "execution_count": 15,
   "metadata": {},
   "outputs": [],
   "source": [
    "import os\n",
    "import json\n",
    "from litex import RemoteClient\n",
    "\n",
    "from functools import reduce"
   ]
  },
  {
   "cell_type": "code",
   "execution_count": 16,
   "metadata": {},
   "outputs": [],
   "source": [
    "soc_json = \"../soc/streamliner.json\""
   ]
  },
  {
   "cell_type": "code",
   "execution_count": 17,
   "metadata": {},
   "outputs": [],
   "source": [
    "bus = RemoteClient()\n",
    "bus.open()"
   ]
  },
  {
   "cell_type": "code",
   "execution_count": 18,
   "metadata": {},
   "outputs": [],
   "source": [
    "with open(soc_json) as file:\n",
    "  soc = json.load(file)"
   ]
  },
  {
   "cell_type": "code",
   "execution_count": 19,
   "metadata": {},
   "outputs": [],
   "source": [
    "def set_base(addr):\n",
    "    bus.write(soc['csr_registers']['wb_udp_tx_dma_base']['addr'], addr)\n",
    "\n",
    "def read_base():\n",
    "    return bus.read(soc['csr_registers']['wb_udp_tx_dma_base']['addr'])\n",
    "\n",
    "def set_length(len):\n",
    "    bus.write(soc['csr_registers']['wb_udp_tx_dma_length']['addr'], len)\n",
    "\n",
    "def set_enable(dat):\n",
    "    bus.write(soc['csr_registers']['wb_udp_tx_dma_enable']['addr'], dat)\n",
    "\n",
    "def read_done():\n",
    "    return bus.read(soc['csr_registers']['wb_udp_tx_dma_done']['addr'])\n",
    "\n",
    "def set_loop(dat):\n",
    "    bus.write(soc['csr_registers']['wb_udp_tx_dma_loop']['addr'], dat)\n",
    "\n",
    "def set_port(src_port, dst_port):\n",
    "    bus.write(soc['csr_registers']['wb_udp_tx_dma_srcdst_port']['addr'], (src_port<<16) + dst_port)\n",
    "\n",
    "def str_ip4_to_num(x:str) -> int:\n",
    "    return reduce(lambda x,y: x|y, map(lambda ix: (int(ix[1]) << (8 * ix[0])), enumerate(reversed(x.split(\".\")))))\n",
    "\n",
    "def set_ip(ip:str):\n",
    "    bus.write(soc['csr_registers']['wb_udp_tx_dma_dst_ip']['addr'], str_ip4_to_num(ip))"
   ]
  },
  {
   "cell_type": "code",
   "execution_count": 20,
   "metadata": {},
   "outputs": [],
   "source": [
    "set_base(0x40000004)"
   ]
  },
  {
   "cell_type": "code",
   "execution_count": 21,
   "metadata": {},
   "outputs": [
    {
     "data": {
      "text/plain": [
       "'0x40000004'"
      ]
     },
     "execution_count": 21,
     "metadata": {},
     "output_type": "execute_result"
    }
   ],
   "source": [
    "hex(read_base())"
   ]
  },
  {
   "cell_type": "code",
   "execution_count": 22,
   "metadata": {},
   "outputs": [],
   "source": [
    "set_base(0x40000000)\n",
    "set_port(5123, 5123)\n",
    "set_ip(\"192.168.100.20\")\n",
    "set_loop(0)\n",
    "set_enable(0xffffff)"
   ]
  },
  {
   "cell_type": "code",
   "execution_count": 11,
   "metadata": {},
   "outputs": [
    {
     "data": {
      "text/plain": [
       "0"
      ]
     },
     "execution_count": 11,
     "metadata": {},
     "output_type": "execute_result"
    }
   ],
   "source": [
    "read_done()"
   ]
  },
  {
   "cell_type": "code",
   "execution_count": 23,
   "metadata": {},
   "outputs": [],
   "source": [
    "bus.close()"
   ]
  },
  {
   "cell_type": "code",
   "execution_count": null,
   "metadata": {},
   "outputs": [],
   "source": [
    "#!/usr/bin/env python3\n",
    "\n",
    "bus = RemoteClient()\n",
    "bus.open()\n",
    "\n",
    "# # #\n",
    "\n",
    "# Access SDRAM\n",
    "bus.write(0x40000000, 0x12345678)\n",
    "value = bus.read(0x40000000)\n",
    "\n",
    "# Access SDRAM (with bus.mems and base address)\n",
    "bus.write(bus.mems.main_ram.base, 0x12345678)\n",
    "value = bus.read(bus.mems.main_ram.base)\n",
    "\n",
    "# Trigger a reset of the SoC\n",
    "bus.regs.ctrl_reset.write(1)\n",
    " \n",
    "# Dump all CSR registers of the SoC\n",
    "for name, reg in bus.regs.__dict__.items():\n",
    "    print(\"0x{:08x} : 0x{:08x} {}\".format(reg.addr, reg.read(), name))\n",
    "\n",
    "[...]\n",
    "\n",
    "# # #\n",
    "\n",
    "bus.close()\n"
   ]
  }
 ],
 "metadata": {
  "kernelspec": {
   "display_name": "Python 3",
   "language": "python",
   "name": "python3"
  },
  "language_info": {
   "codemirror_mode": {
    "name": "ipython",
    "version": 3
   },
   "file_extension": ".py",
   "mimetype": "text/x-python",
   "name": "python",
   "nbconvert_exporter": "python",
   "pygments_lexer": "ipython3",
   "version": "3.10.12"
  }
 },
 "nbformat": 4,
 "nbformat_minor": 2
}
