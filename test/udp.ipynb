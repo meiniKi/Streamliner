{
 "cells": [
  {
   "cell_type": "markdown",
   "metadata": {},
   "source": [
    "Test DMA by directly writing the CSRs"
   ]
  },
  {
   "cell_type": "code",
   "execution_count": null,
   "metadata": {},
   "outputs": [],
   "source": [
    "import os\n",
    "import json\n",
    "from litex import RemoteClient\n",
    "\n",
    "from functools import reduce"
   ]
  },
  {
   "cell_type": "code",
   "execution_count": null,
   "metadata": {},
   "outputs": [],
   "source": [
    "soc_json = \"../soc/streamliner.json\""
   ]
  },
  {
   "cell_type": "code",
   "execution_count": null,
   "metadata": {},
   "outputs": [],
   "source": [
    "bus = RemoteClient()\n",
    "bus.open()"
   ]
  },
  {
   "cell_type": "code",
   "execution_count": null,
   "metadata": {},
   "outputs": [],
   "source": [
    "with open(soc_json) as file:\n",
    "  soc = json.load(file)"
   ]
  },
  {
   "cell_type": "code",
   "execution_count": null,
   "metadata": {},
   "outputs": [],
   "source": [
    "def set_base(addr):\n",
    "    bus.write(soc['csr_registers']['wb_udp_tx_dma_base']['addr'], addr)\n",
    "\n",
    "def read_base():\n",
    "    return bus.read(soc['csr_registers']['wb_udp_tx_dma_base']['addr'])\n",
    "\n",
    "def set_length(len):\n",
    "    bus.write(soc['csr_registers']['wb_udp_tx_dma_length']['addr'], len)\n",
    "\n",
    "def set_enable(dat):\n",
    "    bus.write(soc['csr_registers']['wb_udp_tx_dma_enable']['addr'], dat)\n",
    "\n",
    "def read_done():\n",
    "    return bus.read(soc['csr_registers']['wb_udp_tx_dma_done']['addr'])\n",
    "\n",
    "def set_loop(dat):\n",
    "    bus.write(soc['csr_registers']['wb_udp_tx_dma_loop']['addr'], dat)\n",
    "\n",
    "def set_port(src_port, dst_port):\n",
    "    bus.write(soc['csr_registers']['wb_udp_tx_dma_srcdst_port']['addr'], (src_port<<16) + dst_port)\n",
    "\n",
    "def str_ip4_to_num(x:str) -> int:\n",
    "    return reduce(lambda x,y: x|y, map(lambda ix: (int(ix[1]) << (8 * ix[0])), enumerate(reversed(x.split(\".\")))))\n",
    "\n",
    "def set_ip(ip:str):\n",
    "    bus.write(soc['csr_registers']['wb_udp_tx_dma_dst_ip']['addr'], str_ip4_to_num(ip))"
   ]
  },
  {
   "cell_type": "code",
   "execution_count": null,
   "metadata": {},
   "outputs": [],
   "source": [
    "set_enable(0)\n",
    "set_base(0x40000000)\n",
    "set_port(5123, 5123)\n",
    "set_ip(\"192.168.100.20\")\n",
    "set_length(64)\n",
    "set_loop(0)\n",
    "set_enable(1)"
   ]
  },
  {
   "cell_type": "code",
   "execution_count": null,
   "metadata": {},
   "outputs": [],
   "source": [
    "set_enable(0)"
   ]
  },
  {
   "cell_type": "code",
   "execution_count": null,
   "metadata": {},
   "outputs": [],
   "source": [
    "read_done()"
   ]
  },
  {
   "cell_type": "code",
   "execution_count": null,
   "metadata": {},
   "outputs": [],
   "source": [
    "bus.close()"
   ]
  }
 ],
 "metadata": {
  "kernelspec": {
   "display_name": "Python 3",
   "language": "python",
   "name": "python3"
  },
  "language_info": {
   "codemirror_mode": {
    "name": "ipython",
    "version": 3
   },
   "file_extension": ".py",
   "mimetype": "text/x-python",
   "name": "python",
   "nbconvert_exporter": "python",
   "pygments_lexer": "ipython3",
   "version": "3.10.12"
  }
 },
 "nbformat": 4,
 "nbformat_minor": 2
}
